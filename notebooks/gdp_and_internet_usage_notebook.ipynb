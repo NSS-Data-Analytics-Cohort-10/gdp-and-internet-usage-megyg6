{
 "cells": [
  {
   "cell_type": "code",
   "execution_count": null,
   "id": "55240f86",
   "metadata": {},
   "outputs": [],
   "source": [
    "import pandas as pd   \n",
    "import numpy as np  \n",
    "import matplotlib.pyplot as plt  \n",
    "import seaborn as sns"
   ]
  },
  {
   "cell_type": "code",
   "execution_count": null,
   "id": "2aa4f6dc",
   "metadata": {},
   "outputs": [],
   "source": [
    "gdp_df=pd.read_csv('../data/gdp_percapita.csv')"
   ]
  },
  {
   "cell_type": "markdown",
   "id": "8607c5be",
   "metadata": {},
   "source": [
    "4)Take a look at the first few and last few rows to familiarize yourself with what is contained in this dataset.\n",
    "\n",
    "How many rows and columns are in `gdp_df`? What are the data types of each column?"
   ]
  },
  {
   "cell_type": "code",
   "execution_count": null,
   "id": "bd78b12f",
   "metadata": {},
   "outputs": [],
   "source": [
    "gdp_df.head()"
   ]
  },
  {
   "cell_type": "code",
   "execution_count": null,
   "id": "1649b0a7",
   "metadata": {},
   "outputs": [],
   "source": [
    "gdp_df.tail()"
   ]
  },
  {
   "cell_type": "markdown",
   "id": "aad64ee8",
   "metadata": {},
   "source": [
    "5)How many rows and columns are in `gdp_df`? What are the data types of each column?\n"
   ]
  },
  {
   "cell_type": "code",
   "execution_count": null,
   "id": "a7b605d7",
   "metadata": {},
   "outputs": [],
   "source": [
    "gdp_df.shape"
   ]
  },
  {
   "cell_type": "code",
   "execution_count": null,
   "id": "4094edf9",
   "metadata": {},
   "outputs": [],
   "source": [
    "gdp_df.info()"
   ]
  },
  {
   "cell_type": "markdown",
   "id": "c132f91d",
   "metadata": {},
   "source": [
    "6)Drop the `Value Footnotes` column and rename the remaining three to 'Country', 'Year', and 'GDP_Per_Capita'"
   ]
  },
  {
   "cell_type": "code",
   "execution_count": null,
   "id": "1c20401b",
   "metadata": {},
   "outputs": [],
   "source": [
    "gdp_df= gdp_df.drop(columns = ['Value Footnotes'])\n"
   ]
  },
  {
   "cell_type": "code",
   "execution_count": null,
   "id": "5d48bd9d",
   "metadata": {},
   "outputs": [],
   "source": [
    "gdp_df.head()"
   ]
  },
  {
   "cell_type": "code",
   "execution_count": null,
   "id": "afef3138",
   "metadata": {},
   "outputs": [],
   "source": [
    "gdp_df=gdp_df.rename(columns={'Country or Area':'country','Year':'year','Value':'gdp_per_capita'})\n",
    "gdp_df.head(2)"
   ]
  },
  {
   "cell_type": "markdown",
   "id": "64b2e6c8",
   "metadata": {},
   "source": [
    "7)How many countries have data for all years? Which countries are missing many years of data? Look at the number of observations per year. What do you notice? "
   ]
  },
  {
   "cell_type": "code",
   "execution_count": null,
   "id": "cd589226",
   "metadata": {},
   "outputs": [],
   "source": [
    "gdp_df[\"year\"].sort_values()"
   ]
  },
  {
   "cell_type": "code",
   "execution_count": null,
   "id": "7f61c497",
   "metadata": {},
   "outputs": [],
   "source": [
    "year_value_count= gdp_df[\"country\"].value_counts().reset_index()\n",
    "year_value_count.head()\n"
   ]
  },
  {
   "cell_type": "code",
   "execution_count": null,
   "id": "5164e78c",
   "metadata": {},
   "outputs": [],
   "source": [
    "incomplete_data_years=year_value_count[year_value_count[\"count\"] != 33]\n",
    "incomplete_data_years.info()"
   ]
  },
  {
   "cell_type": "code",
   "execution_count": null,
   "id": "1e842259",
   "metadata": {},
   "outputs": [],
   "source": [
    "incomplete_data_years"
   ]
  },
  {
   "cell_type": "code",
   "execution_count": null,
   "id": "1a0d51bc",
   "metadata": {},
   "outputs": [],
   "source": [
    "gdp_df[gdp_df[\"country\"]==\"Somalia\"]"
   ]
  },
  {
   "cell_type": "code",
   "execution_count": null,
   "id": "e48cd2d2",
   "metadata": {},
   "outputs": [],
   "source": [
    "gdp_df[gdp_df[\"country\"]==\"Djibouti\"]"
   ]
  },
  {
   "cell_type": "code",
   "execution_count": null,
   "id": "ba8132b5",
   "metadata": {},
   "outputs": [],
   "source": [
    "complete_data_years=year_value_count[year_value_count[\"count\"] == 33]\n",
    "complete_data_years.info()"
   ]
  },
  {
   "cell_type": "code",
   "execution_count": null,
   "id": "a47f8412",
   "metadata": {},
   "outputs": [],
   "source": [
    "complete_data_years.head()"
   ]
  },
  {
   "cell_type": "markdown",
   "id": "883c2393",
   "metadata": {},
   "source": [
    "202 countries have complete data for all years and 40 countries have incomplete data for all years. Somalia and Djibouti started to have data recorded from 2013 upwards(both countries are neighbors; Somalia seemed to have had a change in governance around 2012/2013, which might have had something to do with data being collected) "
   ]
  },
  {
   "cell_type": "markdown",
   "id": "08370b2f",
   "metadata": {},
   "source": [
    "8)In this question, you're going to create some plots to show the distribution of GDP per capita for the year 2020. Go to the Python Graph Gallery (https://www.python-graph-gallery.com/) and look at the different types of plots under the Distribution section. Create a histogram, a density plot, a boxplot, and a violin plot. What do you notice when you look at these plots? How do the plots compare and what information can you get out of one type that you can't necessarily get out of the others?"
   ]
  },
  {
   "cell_type": "code",
   "execution_count": null,
   "id": "d0c53da4",
   "metadata": {},
   "outputs": [],
   "source": [
    "year_2020=gdp_df.loc[gdp_df['year']==2020]\n",
    "year_2020.head()"
   ]
  },
  {
   "cell_type": "code",
   "execution_count": null,
   "id": "7483a59c",
   "metadata": {},
   "outputs": [],
   "source": [
    "#histogram for 2020 looking at gdp per capita per country \n",
    "plt.hist(year_2020.gdp_per_capita)\n",
    "plt.show()"
   ]
  },
  {
   "cell_type": "code",
   "execution_count": null,
   "id": "63f0aa9f",
   "metadata": {},
   "outputs": [],
   "source": [
    "# density plot for 2020 looking at gdp per capita per country \n",
    "\n",
    "sns.kdeplot(year_2020['gdp_per_capita'], shade=True)\n",
    "plt.show()"
   ]
  },
  {
   "cell_type": "code",
   "execution_count": null,
   "id": "cf623e86",
   "metadata": {},
   "outputs": [],
   "source": [
    "#boxplot for 2020 looking at gdp per capita per country\n",
    "sns.boxplot( y=year_2020[\"gdp_per_capita\"] )\n",
    "locs, labels = plt.xticks()\n",
    "plt.setp(labels, rotation=45)\n",
    "plt.show()"
   ]
  },
  {
   "cell_type": "code",
   "execution_count": null,
   "id": "bc94295a",
   "metadata": {},
   "outputs": [],
   "source": [
    "# violin plot for 2020 looking at gdp per capita per country\n",
    "sns.violinplot(y=year_2020[\"gdp_per_capita\"])\n",
    "locs, labels = plt.xticks()\n",
    "plt.setp(labels, rotation=45)\n",
    "plt.show()"
   ]
  },
  {
   "cell_type": "markdown",
   "id": "566fe32b",
   "metadata": {},
   "source": [
    "Observation:\n"
   ]
  },
  {
   "cell_type": "markdown",
   "id": "e9b1c212",
   "metadata": {},
   "source": [
    "9.What was the median GDP per capita value in 2020?"
   ]
  },
  {
   "cell_type": "code",
   "execution_count": null,
   "id": "6e847a2d",
   "metadata": {},
   "outputs": [],
   "source": [
    "year_2020[\"gdp_per_capita\"].median()"
   ]
  },
  {
   "cell_type": "markdown",
   "id": "bea8a020",
   "metadata": {},
   "source": [
    "10.For this question, you're going to create some visualizations to compare GDP per capita values for the years 1990, 2000, 2010, and 2020. Start by subsetting your data to just these 4 years into a new DataFrame named gdp_decades. Using this, create the following 4 plots:\n",
    "\t* A boxplot\n",
    "\t* A barplot (check out the Barplot with Seaborn section: https://www.python-graph-gallery.com/barplot/#Seaborn)\n",
    "\t* A scatterplot\n",
    "\t* A scatterplot with a trend line overlaid (see this regplot example: https://www.python-graph-gallery.com/42-custom-linear-regression-fit-seaborn"
   ]
  },
  {
   "cell_type": "code",
   "execution_count": null,
   "id": "aaa9d610",
   "metadata": {
    "scrolled": true
   },
   "outputs": [],
   "source": [
    "gdp_decades=gdp_df[gdp_df['year'].isin([1990, 2000,2010,2020])]\n",
    "gdp_decades.head()"
   ]
  },
  {
   "cell_type": "code",
   "execution_count": null,
   "id": "d09e4ea5",
   "metadata": {},
   "outputs": [],
   "source": [
    "gdp_decades=gdp_decades.sort_values(\"year\")\n"
   ]
  },
  {
   "cell_type": "code",
   "execution_count": null,
   "id": "230b9216",
   "metadata": {},
   "outputs": [],
   "source": [
    "#box plot comparing gdp data for years 1900, 2000, 2010, 2020\n",
    "sns.boxplot( x=gdp_decades[\"year\"], y=gdp_decades[\"gdp_per_capita\"] )"
   ]
  },
  {
   "cell_type": "code",
   "execution_count": null,
   "id": "6eb498fb",
   "metadata": {},
   "outputs": [],
   "source": [
    "#bar plot comparing gdp data for years 1900, 2000, 2010, 2020\n",
    "\n",
    "#fig = plt.figure(figsize = (10, 5))\n",
    " \n",
    "# creating the bar plot\n",
    "plt.bar(gdp_decades[\"year\"], gdp_decades[\"gdp_per_capita\"])\n",
    "\n",
    "\n",
    "#plt.xlabel(\"Year\")\n",
    "#plt.ylabel(\"GDP per Capita\")\n",
    "#plt.title(\"GDP Data for 1900 , 2000 , 2010 ,2020\")\n",
    "plt.show()"
   ]
  },
  {
   "cell_type": "code",
   "execution_count": null,
   "id": "7dd524d8",
   "metadata": {},
   "outputs": [],
   "source": [
    "sns.barplot(x = \"year\", \n",
    "            y = \"gdp_per_capita\", \n",
    "            data = gdp_decades, \n",
    "            palette = 'Set2')\n",
    "plt.xlabel('Year', fontsize=10)                                              \n",
    "plt.ylabel('GDP per Capita', fontsize=10)\n",
    "plt.show()\n"
   ]
  },
  {
   "cell_type": "code",
   "execution_count": null,
   "id": "a4dbfd8d",
   "metadata": {},
   "outputs": [],
   "source": [
    "plt.figure(figsize = (10,6))\n",
    "\n",
    "sns.scatterplot(data = gdp_decades,\n",
    "               x =\"year\",\n",
    "               y = \"gdp_per_capita\" );"
   ]
  },
  {
   "cell_type": "code",
   "execution_count": null,
   "id": "c043d9fd",
   "metadata": {},
   "outputs": [],
   "source": [
    "sns.regplot(x=gdp_decades[\"year\"], y=gdp_decades[\"gdp_per_capita\"], line_kws={\"color\":\"r\",\"alpha\":0.7,\"lw\":2})\n",
    "plt.show()\n",
    "\n"
   ]
  },
  {
   "cell_type": "markdown",
   "id": "30a162ca",
   "metadata": {},
   "source": [
    "Comment on what you observe has happened to GDP values over time and the relative strengths and weaknesses of each type of plot."
   ]
  },
  {
   "cell_type": "markdown",
   "id": "2d798ae4",
   "metadata": {},
   "source": [
    "Answer: From most of the graphs GDP has slightly gone up. Box plot probably has the best look at this comparison between years because you can see the distrobution better, such as median and outliers. Median does seem to increase slightly by the years."
   ]
  },
  {
   "cell_type": "markdown",
   "id": "b8debec2",
   "metadata": {},
   "source": [
    "11.Which country was the first to have a GDP per capita greater than $100,000?"
   ]
  },
  {
   "cell_type": "code",
   "execution_count": null,
   "id": "dbdc4a4a",
   "metadata": {},
   "outputs": [],
   "source": [
    "gdp_df_sorted_year=gdp_df.sort_values([\"year\",\"gdp_per_capita\"], ascending=[True, False])\n",
    "gdp_df_sorted_year"
   ]
  },
  {
   "cell_type": "code",
   "execution_count": null,
   "id": "64710ae0",
   "metadata": {},
   "outputs": [],
   "source": [
    "gdp_df_sorted_year[gdp_df_sorted_year.gdp_per_capita > 100000].head()"
   ]
  },
  {
   "cell_type": "markdown",
   "id": "2e6c6f1d",
   "metadata": {},
   "source": [
    "Answer to 11: United Arab Emirates in 1990 with $105893.626059"
   ]
  },
  {
   "cell_type": "markdown",
   "id": "add9b269",
   "metadata": {},
   "source": [
    "12.Which country had the highest GDP per capita in 2020? Create a plot showing how this country's GDP per capita has changed over the timespan of the dataset."
   ]
  },
  {
   "cell_type": "code",
   "execution_count": null,
   "id": "8c3dfe84",
   "metadata": {},
   "outputs": [],
   "source": [
    "year_2020.sort_values(\"gdp_per_capita\", ascending= False).head()\n",
    "#Luxembourg had the highest gdp in 2020"
   ]
  },
  {
   "cell_type": "code",
   "execution_count": null,
   "id": "9949c2da",
   "metadata": {},
   "outputs": [],
   "source": [
    "luxembourg_time_span=gdp_df[gdp_df[\"country\"]==\"Luxembourg\"]\n",
    "luxembourg_time_span.head(2)"
   ]
  },
  {
   "cell_type": "code",
   "execution_count": null,
   "id": "918249a5",
   "metadata": {},
   "outputs": [],
   "source": [
    "plt.plot(luxembourg_time_span[\"year\"], luxembourg_time_span[\"gdp_per_capita\"])\n",
    "plt.show()"
   ]
  },
  {
   "cell_type": "markdown",
   "id": "b1464a46",
   "metadata": {},
   "source": [
    "13.Which country had the lowest GDP per capita in 2020? Create a plot showing how this country's GDP per capita has changed over the timespan of the dataset. **Bonus question:** Is it true in general that coutries had a higher GDP per capita in 2020 than in 1990? Which countries had lower GDP per capita in 2020 than in 1990?"
   ]
  },
  {
   "cell_type": "code",
   "execution_count": null,
   "id": "085b10ed",
   "metadata": {},
   "outputs": [],
   "source": [
    "year_2020.sort_values(\"gdp_per_capita\").head()"
   ]
  },
  {
   "cell_type": "code",
   "execution_count": null,
   "id": "f981b0b1",
   "metadata": {},
   "outputs": [],
   "source": [
    "burundi_time_span=gdp_df[gdp_df[\"country\"]==\"Burundi\"]\n",
    "burundi_time_span.head(2)"
   ]
  },
  {
   "cell_type": "code",
   "execution_count": null,
   "id": "4b6449fc",
   "metadata": {},
   "outputs": [],
   "source": [
    "plt.plot(burundi_time_span[\"year\"], burundi_time_span[\"gdp_per_capita\"])\n",
    "plt.show()"
   ]
  },
  {
   "cell_type": "markdown",
   "id": "4b49db37",
   "metadata": {},
   "source": [
    "Atempt at bonus below:"
   ]
  },
  {
   "cell_type": "code",
   "execution_count": null,
   "id": "88d15dea",
   "metadata": {},
   "outputs": [],
   "source": [
    "sorted_country_2020=year_2020.sort_values(\"country\")\n",
    "year_1990=gdp_df.loc[gdp_df['year'].isin([1990])]\n",
    "year_1990.sort_values(\"country\")\n",
    "\n",
    "#coming back to this later"
   ]
  },
  {
   "cell_type": "markdown",
   "id": "1b189d09",
   "metadata": {},
   "source": [
    "14.Read in the internet use dataset into a DataFrame named `internet_df`. You will likely get errors when doing this. Check the arguments for the read_csv function to find ones that can help correct the errors (https://pandas.pydata.org/docs/reference/api/pandas.read_csv.html) Once you are able to read it in, take per a look at the top and bottom few rows to make sure that it has been read in correctly. Also, check the datatypes of the columns."
   ]
  },
  {
   "cell_type": "code",
   "execution_count": null,
   "id": "2dc84eeb",
   "metadata": {},
   "outputs": [],
   "source": [
    "\n",
    "internet_df=pd.read_csv('../data/internet_use.csv', on_bad_lines='skip', skipfooter=181)\n",
    "# skip on bad lines was one of the only things to allow me to read data when pulling up bottom of list found a footer\n",
    "#used xcode to look at the csv file, from there found that the footer was mutilined and needed to be cut off, used skipfooter"
   ]
  },
  {
   "cell_type": "code",
   "execution_count": null,
   "id": "9a9b0ba0",
   "metadata": {},
   "outputs": [],
   "source": [
    "internet_df.head()"
   ]
  },
  {
   "cell_type": "code",
   "execution_count": null,
   "id": "58b41292",
   "metadata": {},
   "outputs": [],
   "source": [
    "internet_df.tail()"
   ]
  },
  {
   "cell_type": "code",
   "execution_count": null,
   "id": "19b4985c",
   "metadata": {},
   "outputs": [],
   "source": [
    "internet_df.info()"
   ]
  },
  {
   "cell_type": "markdown",
   "id": "c2f5f548",
   "metadata": {},
   "source": [
    "15.Drop the `Value Footnotes` column and rename the remaining three to 'Country', 'Year', and 'Internet_Users_Pct'."
   ]
  },
  {
   "cell_type": "code",
   "execution_count": null,
   "id": "ebc14f4e",
   "metadata": {},
   "outputs": [],
   "source": [
    "internet_df=internet_df.drop( columns= ['Value Footnotes'])\n"
   ]
  },
  {
   "cell_type": "code",
   "execution_count": null,
   "id": "abc91bee",
   "metadata": {},
   "outputs": [],
   "source": [
    "internet_df=internet_df.rename(columns={\"Country or Area\": \"country\", \"Year\": \"year\", \"Value\":\"internet_users_pct\"})\n",
    "internet_df.head()\n",
    "\n"
   ]
  },
  {
   "cell_type": "markdown",
   "id": "95528ca5",
   "metadata": {},
   "source": [
    "16.Look at the number of observations in this dataset per year. What do you notice?"
   ]
  },
  {
   "cell_type": "code",
   "execution_count": null,
   "id": "0376b019",
   "metadata": {},
   "outputs": [],
   "source": [
    "internet_df[\"year\"].max()\n",
    "\n"
   ]
  },
  {
   "cell_type": "code",
   "execution_count": null,
   "id": "e62d50df",
   "metadata": {},
   "outputs": [],
   "source": [
    "internet_df[\"year\"].min()"
   ]
  },
  {
   "cell_type": "code",
   "execution_count": null,
   "id": "5f0445d3",
   "metadata": {},
   "outputs": [],
   "source": [
    "internet_df[\"year\"].value_counts()"
   ]
  },
  {
   "cell_type": "markdown",
   "id": "e5c9fc2f",
   "metadata": {},
   "source": [
    "Before the year 1990 there were less than 10 observations per year, but after that year that count increases to bein the hundreds"
   ]
  },
  {
   "cell_type": "markdown",
   "id": "47271a32",
   "metadata": {},
   "source": [
    "17.What is the first year to have a non-zero internet users percentage value?"
   ]
  },
  {
   "cell_type": "code",
   "execution_count": null,
   "id": "69c0e3b0",
   "metadata": {},
   "outputs": [],
   "source": [
    "internet_df=internet_df.sort_values([\"year\",\"internet_users_pct\"], ascending=[True,False])\n",
    "internet_df.head()"
   ]
  },
  {
   "cell_type": "code",
   "execution_count": null,
   "id": "eb7ab615",
   "metadata": {},
   "outputs": [],
   "source": [
    "internet_df[internet_df[\"internet_users_pct\"]>0]\n",
    "# how to order this to find the first? how would that be measured?, so far ordered year in ascedning and amount in descending, but that does not mean they were first  \n"
   ]
  },
  {
   "cell_type": "markdown",
   "id": "cbd3262b",
   "metadata": {},
   "source": [
    "18.How does the distribution of internet users percent differ for 2000 and 2014?"
   ]
  },
  {
   "cell_type": "code",
   "execution_count": null,
   "id": "09ceb5e0",
   "metadata": {},
   "outputs": [],
   "source": [
    "int_2000_thru_2014=internet_df[(internet_df[\"year\"]>=2000) & (internet_df[\"year\"]<=2014)]\n",
    "int_2000_thru_2014.head()"
   ]
  },
  {
   "cell_type": "code",
   "execution_count": null,
   "id": "0a44abe4",
   "metadata": {},
   "outputs": [],
   "source": [
    "sns.lineplot(data=int_2000_thru_2014, x=\"year\", y=\"internet_users_pct\")\n",
    "plt.show()\n",
    "#this doesn't seem like its right"
   ]
  },
  {
   "cell_type": "code",
   "execution_count": null,
   "id": "914a0cdd",
   "metadata": {},
   "outputs": [],
   "source": [
    "\n",
    "plt.plot(int_2000_thru_2014[\"year\"], int_2000_thru_2014[\"internet_users_pct\"])\n",
    "plt.show()"
   ]
  },
  {
   "cell_type": "code",
   "execution_count": null,
   "id": "d1f6a0d6",
   "metadata": {},
   "outputs": [],
   "source": [
    "sns.barplot(x = \"year\", \n",
    "            y = \"internet_users_pct\", \n",
    "            data = int_2000_thru_2014, \n",
    "            palette = 'Set2')\n",
    "locs, labels = plt.xticks()\n",
    "plt.setp(labels, rotation=45)\n",
    "plt.xlabel('Year', fontsize=10)                                              \n",
    "plt.ylabel('Percent of Internet Users', fontsize=10)\n",
    "plt.show()"
   ]
  },
  {
   "cell_type": "markdown",
   "id": "8a8e8f18",
   "metadata": {},
   "source": [
    "19.For how many countries was the percentage of internet users below 5% in 2014?\n"
   ]
  },
  {
   "cell_type": "code",
   "execution_count": null,
   "id": "9886d511",
   "metadata": {},
   "outputs": [],
   "source": [
    "internet_2014=internet_df.loc[internet_df[\"year\"]==2014]\n",
    "internet_2014.head()"
   ]
  },
  {
   "cell_type": "code",
   "execution_count": null,
   "id": "1c958c46",
   "metadata": {},
   "outputs": [],
   "source": [
    "internet_2014.loc[internet_2014[\"internet_users_pct\"]<5].nunique()"
   ]
  },
  {
   "cell_type": "code",
   "execution_count": null,
   "id": "644bc562",
   "metadata": {},
   "outputs": [],
   "source": [
    "internet_2014.loc[internet_2014[\"internet_users_pct\"]<5]"
   ]
  },
  {
   "cell_type": "markdown",
   "id": "47f8082a",
   "metadata": {},
   "source": [
    "Answer: 16 countries"
   ]
  },
  {
   "cell_type": "markdown",
   "id": "b36e64ca",
   "metadata": {},
   "source": [
    "20. Merge the two DataFrames to one. Do this in a way that keeps **all rows** from each of the two DataFrames. Call the new DataFrame `gdp_and_internet_use`. Look at the first and last few rows to confirm that it merged correctly."
   ]
  },
  {
   "cell_type": "code",
   "execution_count": null,
   "id": "c38eb8e7",
   "metadata": {},
   "outputs": [],
   "source": [
    "gdp_and_internet_use= pd.merge(gdp_df,internet_df, on=[\"year\",\"country\"], how=\"outer\")"
   ]
  },
  {
   "cell_type": "code",
   "execution_count": null,
   "id": "13fea282",
   "metadata": {},
   "outputs": [],
   "source": [
    "gdp_and_internet_use=gdp_and_internet_use.sort_values([\"country\",\"year\"], ascending=[False, False])\n",
    "gdp_and_internet_use.head()"
   ]
  },
  {
   "cell_type": "markdown",
   "id": "8ac3fe07",
   "metadata": {},
   "source": [
    "21. Find the three countries with the highest internet users percentage in 2014. Use a seaborn FacetGrid (https://seaborn.pydata.org/generated/seaborn.FacetGrid.html) to compare how the GDP per capita has changed over time for these three countries. What do you notice?\n"
   ]
  },
  {
   "cell_type": "code",
   "execution_count": null,
   "id": "9b717980",
   "metadata": {},
   "outputs": [],
   "source": [
    "gdp_and_internet_use_2014=gdp_and_internet_use.loc[gdp_and_internet_use[\"year\"]==2014]"
   ]
  },
  {
   "cell_type": "code",
   "execution_count": null,
   "id": "3c1aa8d5",
   "metadata": {},
   "outputs": [],
   "source": [
    "gdp_and_internet_use_2014.sort_values(\"internet_users_pct\", ascending=False)\n",
    "# top three are Iceland Bermuda Norway"
   ]
  },
  {
   "cell_type": "code",
   "execution_count": null,
   "id": "2faf882c",
   "metadata": {},
   "outputs": [],
   "source": [
    "gdp_and_internet_use.info()"
   ]
  },
  {
   "cell_type": "code",
   "execution_count": null,
   "id": "0ca899a3",
   "metadata": {},
   "outputs": [],
   "source": [
    "gdp_and_internet_use_ibn=gdp_and_internet_use[gdp_and_internet_use[\"country\"].isin([\"Iceland\",\"Bermuda\",\"Norway\"])]\n",
    "gdp_and_internet_use_ibn.head()"
   ]
  },
  {
   "cell_type": "code",
   "execution_count": null,
   "id": "6feacbab",
   "metadata": {},
   "outputs": [],
   "source": [
    "seafg_ibn=sns.FacetGrid(gdp_and_internet_use_ibn, col=\"country\")\n",
    "seafg_ibn.map_dataframe(sns.lineplot, data=seafg_ibn, x=\"year\", y=\"gdp_per_capita\");"
   ]
  },
  {
   "cell_type": "markdown",
   "id": "cc500415",
   "metadata": {},
   "source": [
    "22.Subset `gdp_and_internet_use` to just the year 2014. Save this as a new dataframe named `gdp_and_internet_use_2014`.\n"
   ]
  },
  {
   "cell_type": "code",
   "execution_count": null,
   "id": "dac34a09",
   "metadata": {},
   "outputs": [],
   "source": [
    "gdp_and_internet_use_2014"
   ]
  },
  {
   "cell_type": "markdown",
   "id": "4b2ca539",
   "metadata": {},
   "source": [
    "23. Create a plot which compares Internet Users Percentage and GDP per Capita for the year 2014. What do you notice from this plot? If you see any unusual points, investigate them."
   ]
  },
  {
   "cell_type": "code",
   "execution_count": null,
   "id": "b8a4226e",
   "metadata": {
    "scrolled": false
   },
   "outputs": [],
   "source": [
    "plt.figure(figsize = (20,10))\n",
    "\n",
    "sns.scatterplot(data = gdp_and_internet_use_2014,\n",
    "               x = 'gdp_per_capita',\n",
    "               y = 'internet_users_pct');"
   ]
  },
  {
   "cell_type": "markdown",
   "id": "faa4af2e",
   "metadata": {},
   "source": [
    "from comparing internet usage vs gdp_per_capita for the year 2014, interesting points to investigate would be outliers at 30,000, and outliers past 80,000"
   ]
  },
  {
   "cell_type": "code",
   "execution_count": null,
   "id": "ca3bb5bd",
   "metadata": {},
   "outputs": [],
   "source": [
    "gdp_and_internet_use_2014[\"gdp_per_capita\"].describe()\n"
   ]
  },
  {
   "cell_type": "code",
   "execution_count": null,
   "id": "ee51ceb5",
   "metadata": {},
   "outputs": [],
   "source": [
    "gdp_and_internet_use_2014[\"internet_users_pct\"].describe()"
   ]
  },
  {
   "cell_type": "markdown",
   "id": "9f32a4eb",
   "metadata": {},
   "source": [
    "24. **Stretch Question:** Use the `qcut` function from pandas (https://pandas.pydata.org/docs/reference/api/pandas.qcut.html) to divide countries in `gdp_per_capita_2014` into three groups based on their GDP per capita values. Label these groups as \"Low\", \"Medium\", and \"High\". Put these labels in a new column, named \"GDP_group\".\n",
    "    "
   ]
  },
  {
   "cell_type": "code",
   "execution_count": null,
   "id": "ef0b0f3c",
   "metadata": {},
   "outputs": [],
   "source": [
    "pd.qcut()"
   ]
  },
  {
   "cell_type": "code",
   "execution_count": null,
   "id": "4c25cad7",
   "metadata": {},
   "outputs": [],
   "source": []
  }
 ],
 "metadata": {
  "kernelspec": {
   "display_name": "Python 3 (ipykernel)",
   "language": "python",
   "name": "python3"
  },
  "language_info": {
   "codemirror_mode": {
    "name": "ipython",
    "version": 3
   },
   "file_extension": ".py",
   "mimetype": "text/x-python",
   "name": "python",
   "nbconvert_exporter": "python",
   "pygments_lexer": "ipython3",
   "version": "3.11.5"
  }
 },
 "nbformat": 4,
 "nbformat_minor": 5
}
