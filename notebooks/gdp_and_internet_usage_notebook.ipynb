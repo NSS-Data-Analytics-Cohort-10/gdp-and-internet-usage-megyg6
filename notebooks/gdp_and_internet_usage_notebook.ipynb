{
 "cells": [
  {
   "cell_type": "code",
   "execution_count": null,
   "id": "b187f16f",
   "metadata": {},
   "outputs": [],
   "source": [
    "import pandas as pd   \n",
    "import numpy as np  \n",
    "import matplotlib.pyplot as plt  \n",
    "import seaborn as sns"
   ]
  },
  {
   "cell_type": "code",
   "execution_count": null,
   "id": "3b89f3a6",
   "metadata": {},
   "outputs": [],
   "source": [
    "gdp_df=pd.read_csv('../data/gdp_percapita.csv')"
   ]
  },
  {
   "cell_type": "markdown",
   "id": "6da40256",
   "metadata": {},
   "source": [
    "4)Take a look at the first few and last few rows to familiarize yourself with what is contained in this dataset.\n",
    "\n",
    "How many rows and columns are in `gdp_df`? What are the data types of each column?"
   ]
  },
  {
   "cell_type": "code",
   "execution_count": null,
   "id": "c1696e68",
   "metadata": {},
   "outputs": [],
   "source": [
    "gdp_df.head()"
   ]
  },
  {
   "cell_type": "code",
   "execution_count": null,
   "id": "bfa641bd",
   "metadata": {},
   "outputs": [],
   "source": [
    "gdp_df.tail()"
   ]
  },
  {
   "cell_type": "markdown",
   "id": "9ca9ca10",
   "metadata": {},
   "source": [
    "5)How many rows and columns are in `gdp_df`? What are the data types of each column?\n"
   ]
  },
  {
   "cell_type": "code",
   "execution_count": null,
   "id": "caf0f26e",
   "metadata": {},
   "outputs": [],
   "source": [
    "gdp_df.shape"
   ]
  },
  {
   "cell_type": "code",
   "execution_count": null,
   "id": "358c66cb",
   "metadata": {},
   "outputs": [],
   "source": [
    "gdp_df.info()"
   ]
  },
  {
   "cell_type": "markdown",
   "id": "cfcdcf7e",
   "metadata": {},
   "source": [
    "6)Drop the `Value Footnotes` column and rename the remaining three to 'Country', 'Year', and 'GDP_Per_Capita'"
   ]
  },
  {
   "cell_type": "code",
   "execution_count": null,
   "id": "86c46386",
   "metadata": {},
   "outputs": [],
   "source": [
    "gdp_df= gdp_df.drop(columns = ['Value Footnotes'])\n"
   ]
  },
  {
   "cell_type": "code",
   "execution_count": null,
   "id": "d2cacb55",
   "metadata": {},
   "outputs": [],
   "source": [
    "gdp_df.head()"
   ]
  },
  {
   "cell_type": "code",
   "execution_count": null,
   "id": "809ea5dc",
   "metadata": {},
   "outputs": [],
   "source": [
    "gdp_df=gdp_df.rename(columns={'Country or Area':'country','Year':'year','Value':'gdp_per_capita'})\n",
    "gdp_df.head(2)"
   ]
  },
  {
   "cell_type": "markdown",
   "id": "2478c071",
   "metadata": {},
   "source": [
    "7)How many countries have data for all years? Which countries are missing many years of data? Look at the number of observations per year. What do you notice? "
   ]
  },
  {
   "cell_type": "code",
   "execution_count": null,
   "id": "5b6a84ba",
   "metadata": {},
   "outputs": [],
   "source": [
    "gdp_df[\"year\"].unique()"
   ]
  },
  {
   "cell_type": "code",
   "execution_count": null,
   "id": "f3d695d5",
   "metadata": {},
   "outputs": [],
   "source": [
    "year_value_count= gdp_df[\"country\"].value_counts().reset_index()\n",
    "year_value_count.head()\n"
   ]
  },
  {
   "cell_type": "code",
   "execution_count": null,
   "id": "79f1bf81",
   "metadata": {},
   "outputs": [],
   "source": [
    "incomplete_data_years=year_value_count[year_value_count[\"count\"] != 33]\n",
    "incomplete_data_years.info()"
   ]
  },
  {
   "cell_type": "code",
   "execution_count": null,
   "id": "b7a83207",
   "metadata": {},
   "outputs": [],
   "source": [
    "incomplete_data_years"
   ]
  },
  {
   "cell_type": "code",
   "execution_count": null,
   "id": "4af84765",
   "metadata": {},
   "outputs": [],
   "source": [
    "gdp_df[gdp_df[\"country\"]==\"Somalia\"]"
   ]
  },
  {
   "cell_type": "code",
   "execution_count": null,
   "id": "3c37550d",
   "metadata": {},
   "outputs": [],
   "source": [
    "gdp_df[gdp_df[\"country\"]==\"Djibouti\"]"
   ]
  },
  {
   "cell_type": "code",
   "execution_count": null,
   "id": "6ddc6a47",
   "metadata": {},
   "outputs": [],
   "source": [
    "complete_data_years=year_value_count[year_value_count[\"count\"] == 33]\n",
    "complete_data_years.info()"
   ]
  },
  {
   "cell_type": "code",
   "execution_count": null,
   "id": "8f41f4b5",
   "metadata": {},
   "outputs": [],
   "source": [
    "complete_data_years.head()"
   ]
  },
  {
   "cell_type": "markdown",
   "id": "247a69b1",
   "metadata": {},
   "source": [
    "202 countries have complete data for all years and 40 countries have incomplete data for all years. Somalia and Djibouti started to have data recorded from 2013 upwards(both countries are neighbors; Somalia seemed to have had a change in governance around 2012/2013, which might have had something to do with data being collected) "
   ]
  },
  {
   "cell_type": "markdown",
   "id": "a3230ea5",
   "metadata": {},
   "source": [
    "8)In this question, you're going to create some plots to show the distribution of GDP per capita for the year 2020. Go to the Python Graph Gallery (https://www.python-graph-gallery.com/) and look at the different types of plots under the Distribution section. Create a histogram, a density plot, a boxplot, and a violin plot. What do you notice when you look at these plots? How do the plots compare and what information can you get out of one type that you can't necessarily get out of the others?"
   ]
  },
  {
   "cell_type": "code",
   "execution_count": null,
   "id": "90e5c171",
   "metadata": {},
   "outputs": [],
   "source": [
    "year_2020=gdp_df.loc[gdp_df['year'].isin([2020])]\n",
    "year_2020.head()"
   ]
  },
  {
   "cell_type": "code",
   "execution_count": null,
   "id": "e1d38bd4",
   "metadata": {},
   "outputs": [],
   "source": [
    "#histogram for 2020 looking at gdp per capita per country \n",
    "plt.hist(year_2020.gdp_per_capita)\n",
    "plt.show()"
   ]
  },
  {
   "cell_type": "code",
   "execution_count": null,
   "id": "d6100dbd",
   "metadata": {},
   "outputs": [],
   "source": [
    "# density plot for 2020 looking at gdp per capita per country \n",
    "\n",
    "sns.kdeplot(year_2020['gdp_per_capita'], shade=True)\n",
    "plt.show()"
   ]
  },
  {
   "cell_type": "code",
   "execution_count": null,
   "id": "82aeb9c2",
   "metadata": {},
   "outputs": [],
   "source": [
    "#boxplot for 2020 looking at gdp per capita per country\n",
    "sns.boxplot( x=year_2020[\"country\"], y=year_2020[\"gdp_per_capita\"] )"
   ]
  },
  {
   "cell_type": "code",
   "execution_count": null,
   "id": "c5da97e3",
   "metadata": {},
   "outputs": [],
   "source": [
    "# violin plot for 2020 looking at gdp per capita per country\n",
    "sns.violinplot(x=year_2020[\"country\"], y=year_2020[\"gdp_per_capita\"])"
   ]
  },
  {
   "cell_type": "markdown",
   "id": "84b2378a",
   "metadata": {},
   "source": [
    "In this instance, when looking at only 2020 distribution,a histogram will allow you to see an overview of how the gdps are distributed, but it would not let you see the what countries are associated with a certain gdp. \n",
    "A density graph also gives an over view of how the gdps are distributed, but would not give you an idea of which country is associated with a certain gdp value.\n"
   ]
  },
  {
   "cell_type": "markdown",
   "id": "016e09a5",
   "metadata": {},
   "source": [
    "9.What was the median GDP per capita value in 2020?"
   ]
  },
  {
   "cell_type": "code",
   "execution_count": null,
   "id": "67824095",
   "metadata": {},
   "outputs": [],
   "source": [
    "year_2020[\"gdp_per_capita\"].median()"
   ]
  },
  {
   "cell_type": "markdown",
   "id": "162a2e55",
   "metadata": {},
   "source": [
    "10.For this question, you're going to create some visualizations to compare GDP per capita values for the years 1990, 2000, 2010, and 2020. Start by subsetting your data to just these 4 years into a new DataFrame named gdp_decades. Using this, create the following 4 plots:\n",
    "\t* A boxplot\n",
    "\t* A barplot (check out the Barplot with Seaborn section: https://www.python-graph-gallery.com/barplot/#Seaborn)\n",
    "\t* A scatterplot\n",
    "\t* A scatterplot with a trend line overlaid (see this regplot example: https://www.python-graph-gallery.com/42-custom-linear-regression-fit-seaborn"
   ]
  },
  {
   "cell_type": "code",
   "execution_count": null,
   "id": "a5e50b8b",
   "metadata": {
    "scrolled": true
   },
   "outputs": [],
   "source": [
    "gdp_decades=gdp_df[gdp_df['year'].isin([1990, 2000,2010,2020])]\n",
    "gdp_decades.head()"
   ]
  },
  {
   "cell_type": "code",
   "execution_count": null,
   "id": "922c8c26",
   "metadata": {},
   "outputs": [],
   "source": [
    "gdp_decades[\"year\"].sort()"
   ]
  },
  {
   "cell_type": "code",
   "execution_count": null,
   "id": "057c5905",
   "metadata": {},
   "outputs": [],
   "source": [
    "#box plot comparing gdp data for years 1900, 2000, 2010, 2020\n",
    "sns.boxplot( x=gdp_decades[\"year\"], y=gdp_decades[\"gdp_per_capita\"] )"
   ]
  },
  {
   "cell_type": "code",
   "execution_count": null,
   "id": "2ef7d6aa",
   "metadata": {},
   "outputs": [],
   "source": [
    "#bar plot comparing gdp data for years 1900, 2000, 2010, 2020\n",
    "\n",
    "#fig = plt.figure(figsize = (10, 5))\n",
    " \n",
    "# creating the bar plot\n",
    "plt.bar(gdp_decades[\"year\"], gdp_decades[\"gdp_per_capita\"]) \n",
    "#        width = 5)\n",
    "#plt.margins(x=0)\n",
    "\n",
    "#plt.xlabel(\"Year\")\n",
    "#plt.ylabel(\"GDP per Capita\")\n",
    "#plt.title(\"GDP Data for 1900 , 2000 , 2010 ,2020\")\n",
    "#plt.show()"
   ]
  },
  {
   "cell_type": "code",
   "execution_count": null,
   "id": "39d63782",
   "metadata": {},
   "outputs": [],
   "source": [
    "gdp_decades[\"year\"]"
   ]
  },
  {
   "cell_type": "code",
   "execution_count": null,
   "id": "59a0fa73",
   "metadata": {},
   "outputs": [],
   "source": [
    "sns.barplot(x = \"year\", \n",
    "            y = \"gdp_per_capita\", \n",
    "            data = gdp_decades, \n",
    "            palette = 'Set2')\n",
    "plt.xlabel('Year', fontsize=16)                                              \n",
    "plt.ylabel('GDP per Capita', fontsize=16)\n",
    "plt.show()\n"
   ]
  },
  {
   "cell_type": "code",
   "execution_count": null,
   "id": "2f7f04a3",
   "metadata": {},
   "outputs": [],
   "source": []
  }
 ],
 "metadata": {
  "kernelspec": {
   "display_name": "Python 3 (ipykernel)",
   "language": "python",
   "name": "python3"
  },
  "language_info": {
   "codemirror_mode": {
    "name": "ipython",
    "version": 3
   },
   "file_extension": ".py",
   "mimetype": "text/x-python",
   "name": "python",
   "nbconvert_exporter": "python",
   "pygments_lexer": "ipython3",
   "version": "3.11.5"
  }
 },
 "nbformat": 4,
 "nbformat_minor": 5
}
